{
 "cells": [
  {
   "cell_type": "markdown",
   "metadata": {},
   "source": [
    "# Aspectos básicos de algebra\n",
    "\n",
    "Antes algunos conceptos básicos de python. Para ello se utilizará la libreria de **Numpy**, esta libreria funciona como cualquier otra libreria en paquetes estadísticos, por ejemplo R.\n",
    "\n",
    "Sin embargo, Python tiene sus particularidades. Para instalar la libreria, primero se debe ir al *cmd* de Windows y digitar\n",
    "*python -m pip install numpy --user*. La última parte, *--user* se hace para evitar problemas de permisos cuando no se es Administrador. Una vez ejecutado, el paquete se instalará solo para el usuario.\n",
    "\n",
    "Luego, para cargar la libreria se ejecuta el siguiente comando:"
   ]
  },
  {
   "cell_type": "code",
   "execution_count": 5,
   "metadata": {},
   "outputs": [],
   "source": [
    "import numpy as np  # carga todas las funciones que tiene la libreria, distinto sería usar el comando from\n",
    "                    # la parte 'as' indica la denominación que va a tener la libreria en el código"
   ]
  },
  {
   "cell_type": "markdown",
   "metadata": {},
   "source": [
    "## 1. Vectores\n",
    "\n",
    "Un vector se define como un objeto que contiene una cierta cantidad de elementos. Por ejemplo, sea un vector $a$ cuyos elementos sean $1,2,3,4$.\n",
    "\n",
    "Si los elementos se disponen o se arreglan en fila, se dice que el vector $a$ es un vector fila cuyas dimensiones serían $(1,4)$ dado que tendria $1$ fila y $4$ columnas. En python escribimos este vector de la forma:"
   ]
  },
  {
   "cell_type": "code",
   "execution_count": 6,
   "metadata": {},
   "outputs": [
    {
     "name": "stdout",
     "output_type": "stream",
     "text": [
      "[1 2 3 4]\n"
     ]
    },
    {
     "data": {
      "text/plain": [
       "(4,)"
      ]
     },
     "execution_count": 6,
     "metadata": {},
     "output_type": "execute_result"
    }
   ],
   "source": [
    "# create a vector\n",
    "a = np.array([1, 2, 3, 4])\n",
    "print(a)\n",
    "a.shape # dimensiones del vector a"
   ]
  },
  {
   "cell_type": "markdown",
   "metadata": {},
   "source": [
    "En la práctica, en estos tipos de programas da lo mismo si es un vecto fila o un vector columna. Lo importante es que sea un vector.\n",
    "\n",
    "Ahora, algunos *tips* sobre los vectores, sus elementos y como hacer operaciones entre ellos.\n",
    "\n",
    "### 1.1. Elementos de un vector\n",
    "\n",
    "En cualquier programa estadístico cuando se crea un vector se genera un *índice* que indica la posición del elemento. En particular, Python inicia el *índice* en cero, es decir, el primer elemento de un vecto se accede diciendo a Python que queremos el elemento cuyo índice sea cero.\n",
    "\n",
    "Para el ejemplo, anterior si deseamos el primer elemento de $a$ entonces:"
   ]
  },
  {
   "cell_type": "code",
   "execution_count": 7,
   "metadata": {},
   "outputs": [
    {
     "data": {
      "text/plain": [
       "1"
      ]
     },
     "execution_count": 7,
     "metadata": {},
     "output_type": "execute_result"
    }
   ],
   "source": [
    "a[0]"
   ]
  },
  {
   "cell_type": "markdown",
   "metadata": {},
   "source": [
    "A su vez es posible hacer operaciones entre elementos del vector. Por ejemplo, si se desea sumar el elemento cuyo *índice* es 2 y el elemento cuyo *índice* es 3 se debe ejecutar:"
   ]
  },
  {
   "cell_type": "code",
   "execution_count": 8,
   "metadata": {},
   "outputs": [
    {
     "data": {
      "text/plain": [
       "7"
      ]
     },
     "execution_count": 8,
     "metadata": {},
     "output_type": "execute_result"
    }
   ],
   "source": [
    "a[2]+a[3]"
   ]
  },
  {
   "cell_type": "markdown",
   "metadata": {},
   "source": [
    "Fijemonos que el programa sumó $3+4$, por qué? Recuerde que Python inicia el *índice* en cero y por lo tanto $a[2]$ y $a[3]$ corresponden a los elementos 3 y 4 respectivamente."
   ]
  },
  {
   "cell_type": "markdown",
   "metadata": {},
   "source": [
    "### 1.2. Operaciones con vectores\n",
    "\n",
    "Cuando se realizan operaciones con vectores es necesario tener en cuenta que en este tipo de paquetes existe una diferenciación importante.\n",
    "\n",
    "Por una parte, se tiene operaciones *element-wise* que consiste en que la operación a realizar se \"aplica\" a cada elemento del vector. Por ejemplo, al sumar dos vectores se está realizando una operación *element-wise* en la medida que se está sumando el primer elemento de un vector con el primer elemento de otro vector, el segundo con el segundo, etc.\n",
    "\n",
    "Por otra parte, se tiene operaciones \"entre objetos\" es decir operaciones que se aplican sobre todo el vector. El ejemplo más claro de este tipo de operaciones es la diferencia entre la multiplicación \"normal\" y el producto punto.\n",
    "\n",
    "#### 1.2.1 Element-wise\n",
    "\n",
    "Creemos otro vector, esta vez llamemolo $b$ y cuyos elementos sean $5, 6, 7, 8$."
   ]
  },
  {
   "cell_type": "code",
   "execution_count": 9,
   "metadata": {},
   "outputs": [],
   "source": [
    "b = np.array([5, 6 , 7, 8])"
   ]
  },
  {
   "cell_type": "markdown",
   "metadata": {},
   "source": [
    "Ahora, veamos como funciona la suma:"
   ]
  },
  {
   "cell_type": "code",
   "execution_count": 10,
   "metadata": {},
   "outputs": [
    {
     "name": "stdout",
     "output_type": "stream",
     "text": [
      "[ 6  8 10 12]\n"
     ]
    }
   ],
   "source": [
    "c = a + b\n",
    "print(c)"
   ]
  },
  {
   "cell_type": "markdown",
   "metadata": {},
   "source": [
    "Notemos que es el mismo resultado que realizar:"
   ]
  },
  {
   "cell_type": "code",
   "execution_count": 11,
   "metadata": {},
   "outputs": [
    {
     "data": {
      "text/plain": [
       "array([ 6,  8, 10, 12])"
      ]
     },
     "execution_count": 11,
     "metadata": {},
     "output_type": "execute_result"
    }
   ],
   "source": [
    "np.array([a[0]+b[0], a[1]+b[1], a[2]+b[2], a[3]+b[3]])"
   ]
  },
  {
   "cell_type": "markdown",
   "metadata": {},
   "source": [
    "La resta funciona de la misma forma:"
   ]
  },
  {
   "cell_type": "code",
   "execution_count": 12,
   "metadata": {},
   "outputs": [
    {
     "name": "stdout",
     "output_type": "stream",
     "text": [
      "[-4 -4 -4 -4]\n"
     ]
    }
   ],
   "source": [
    "d = a - b\n",
    "print(d)"
   ]
  },
  {
   "cell_type": "markdown",
   "metadata": {},
   "source": [
    "La multiplicación:"
   ]
  },
  {
   "cell_type": "code",
   "execution_count": 13,
   "metadata": {},
   "outputs": [
    {
     "name": "stdout",
     "output_type": "stream",
     "text": [
      "[ 5 12 21 32]\n"
     ]
    }
   ],
   "source": [
    "e = a*b\n",
    "print(e)"
   ]
  },
  {
   "cell_type": "markdown",
   "metadata": {},
   "source": [
    "La división:"
   ]
  },
  {
   "cell_type": "code",
   "execution_count": 14,
   "metadata": {},
   "outputs": [
    {
     "name": "stdout",
     "output_type": "stream",
     "text": [
      "[5.         3.         2.33333333 2.        ]\n"
     ]
    }
   ],
   "source": [
    "f = b/a\n",
    "print(f)"
   ]
  },
  {
   "cell_type": "markdown",
   "metadata": {},
   "source": [
    "#### 1.2.2. Operaciones con vectores como objeto\n",
    "\n",
    "Como se mencionó, en este tipo de operaciones la operación hace referencia a todo el vector.\n",
    "\n",
    "Producto Punto:"
   ]
  },
  {
   "cell_type": "code",
   "execution_count": 15,
   "metadata": {},
   "outputs": [
    {
     "name": "stdout",
     "output_type": "stream",
     "text": [
      "70\n"
     ]
    }
   ],
   "source": [
    "g = a.dot(b)\n",
    "print(g)"
   ]
  },
  {
   "cell_type": "markdown",
   "metadata": {},
   "source": [
    "Cuál es la diferencia entre la multiplicación y el producto punto? \n",
    "Escriba una línea de comando que replique lo hecho por la función *.dot()*"
   ]
  },
  {
   "cell_type": "markdown",
   "metadata": {},
   "source": [
    "## 2. Matrices\n",
    "\n",
    "Las matrices son objetos que están disñados en filas y columnas. Por ejemplo, sea una matriz:\n",
    "\n",
    "$$A=\\begin{bmatrix} 1 & 2 & 1 \\\\ 3 & 0 & 1 \\\\ 0 & 2 & 4 \\end{bmatrix}$$\n",
    "\n",
    "Esta matriz tiene dimensiones $(3,3)$ y se dice que es cuadrada dado que el número de filas es igual al número de columnas.\n",
    "\n",
    "Ahora, creemos la matriz con código en Python:"
   ]
  },
  {
   "cell_type": "code",
   "execution_count": 16,
   "metadata": {},
   "outputs": [
    {
     "name": "stdout",
     "output_type": "stream",
     "text": [
      "[[1 2 1]\n",
      " [3 0 1]\n",
      " [0 2 4]]\n"
     ]
    },
    {
     "data": {
      "text/plain": [
       "(3, 3)"
      ]
     },
     "execution_count": 16,
     "metadata": {},
     "output_type": "execute_result"
    }
   ],
   "source": [
    "A = np.matrix([[1,2,1],[3,0,1],[0,2,4]])\n",
    "print(A)\n",
    "A.shape # dimensiones de la matriz"
   ]
  },
  {
   "cell_type": "markdown",
   "metadata": {},
   "source": [
    "Cree la siguiente matriz y determine sus dimensiones:\n",
    "\n",
    "$$B=\\begin{bmatrix} 3 & 7 & 1 \\\\ 6 & 4 & 2 \\\\ 5 & 0 & 4 \\end{bmatrix}$$"
   ]
  },
  {
   "cell_type": "code",
   "execution_count": 17,
   "metadata": {},
   "outputs": [
    {
     "name": "stdout",
     "output_type": "stream",
     "text": [
      "[[3 7 1]\n",
      " [6 4 2]\n",
      " [5 0 4]]\n"
     ]
    },
    {
     "data": {
      "text/plain": [
       "(3, 3)"
      ]
     },
     "execution_count": 17,
     "metadata": {},
     "output_type": "execute_result"
    }
   ],
   "source": [
    "B = np.matrix([[3,7,1],[6,4,2],[5,0,4]])\n",
    "print(B)\n",
    "B.shape"
   ]
  },
  {
   "cell_type": "markdown",
   "metadata": {},
   "source": [
    "### 2.1. Elementos de una matriz\n",
    "\n",
    "Al igual que se hizo con vectores, con las matrices también podemos acceder a sus elementos. En este caso, debemos tener presente que existen dos *índices*, uno para las filas y uno para las columnas.\n",
    "\n",
    "Por lo tanto, si deseamos acceder al primer elemento de la matriz, es decir, al elemento ubicado en la primera fila y en la primera columna debemos ejecutar:"
   ]
  },
  {
   "cell_type": "code",
   "execution_count": 18,
   "metadata": {},
   "outputs": [
    {
     "data": {
      "text/plain": [
       "1"
      ]
     },
     "execution_count": 18,
     "metadata": {},
     "output_type": "execute_result"
    }
   ],
   "source": [
    "A[0,0]"
   ]
  },
  {
   "cell_type": "markdown",
   "metadata": {},
   "source": [
    "Acceda a los siguientes elementos:\n",
    "\n",
    "1. Segunda fila y tercera columna de A.\n",
    "2. Tercera fila y segunda columna de B.\n",
    "3. Primera fila y segunda columna de B."
   ]
  },
  {
   "cell_type": "code",
   "execution_count": 19,
   "metadata": {},
   "outputs": [
    {
     "data": {
      "text/plain": [
       "1"
      ]
     },
     "execution_count": 19,
     "metadata": {},
     "output_type": "execute_result"
    }
   ],
   "source": [
    "# 1. Segunda fila y tercera columna de A\n",
    "A[1,2]"
   ]
  },
  {
   "cell_type": "code",
   "execution_count": 20,
   "metadata": {},
   "outputs": [
    {
     "data": {
      "text/plain": [
       "0"
      ]
     },
     "execution_count": 20,
     "metadata": {},
     "output_type": "execute_result"
    }
   ],
   "source": [
    "# 2. Tercera fila y segunda columna de B\n",
    "B[2,1]"
   ]
  },
  {
   "cell_type": "code",
   "execution_count": 21,
   "metadata": {},
   "outputs": [
    {
     "data": {
      "text/plain": [
       "7"
      ]
     },
     "execution_count": 21,
     "metadata": {},
     "output_type": "execute_result"
    }
   ],
   "source": [
    "# 3. Primera fila y segunda columna de B\n",
    "B[0,1]"
   ]
  },
  {
   "cell_type": "markdown",
   "metadata": {},
   "source": [
    "## 2.2. Operaciones con matrices\n",
    "\n",
    "De igual forma, debemos diferenciar entre las *element-wise* y aquellas sobre los objetos completos\n",
    "\n",
    "### 2.2.1 Element-wise\n",
    "\n",
    "Suma:"
   ]
  },
  {
   "cell_type": "code",
   "execution_count": 22,
   "metadata": {},
   "outputs": [
    {
     "name": "stdout",
     "output_type": "stream",
     "text": [
      "[[4 9 2]\n",
      " [9 4 3]\n",
      " [5 2 8]]\n"
     ]
    }
   ],
   "source": [
    "C = A+B\n",
    "print(C)"
   ]
  },
  {
   "cell_type": "markdown",
   "metadata": {},
   "source": [
    "Resta:"
   ]
  },
  {
   "cell_type": "code",
   "execution_count": 23,
   "metadata": {},
   "outputs": [
    {
     "name": "stdout",
     "output_type": "stream",
     "text": [
      "[[-2 -5  0]\n",
      " [-3 -4 -1]\n",
      " [-5  2  0]]\n"
     ]
    }
   ],
   "source": [
    "D = A-B\n",
    "print(D)"
   ]
  },
  {
   "cell_type": "markdown",
   "metadata": {},
   "source": [
    "Multiplicación:"
   ]
  },
  {
   "cell_type": "code",
   "execution_count": 24,
   "metadata": {},
   "outputs": [
    {
     "name": "stdout",
     "output_type": "stream",
     "text": [
      "[[20 15  9]\n",
      " [14 21  7]\n",
      " [32  8 20]]\n"
     ]
    }
   ],
   "source": [
    "E = A*B\n",
    "print(E)"
   ]
  },
  {
   "cell_type": "markdown",
   "metadata": {},
   "source": [
    "Qué pasó? Si hacemos la multiplicación a mano del primer elemento de $A$ con el primer elemento de $B$ obtenemos:"
   ]
  },
  {
   "cell_type": "code",
   "execution_count": 25,
   "metadata": {},
   "outputs": [
    {
     "data": {
      "text/plain": [
       "3"
      ]
     },
     "execution_count": 25,
     "metadata": {},
     "output_type": "execute_result"
    }
   ],
   "source": [
    "A[0,0]*B[0,0]"
   ]
  },
  {
   "cell_type": "markdown",
   "metadata": {},
   "source": [
    "Pero el primer elemento de la matriz $E$ es 20. Entonces, qué operación hizo Pyhton? Y cómo obtenemos el resultado que queremos (*element-wise*)?\n",
    "\n",
    "Primero, qué operación hizo Python? Fijemonoso que ambas matrices son de $3x3$ así Python interpreta que estamos haciendo un **producto cruzado** entre matrices. Por ejemplo, el primer elemento de $E$ resulta de la siguiente operación:\n",
    "\n",
    "$E_{1,1} = A_{1,1}*B_{1,1}+A_{1,2}*B_{2,1}+A_{1,3}*B_{3,1}$\n",
    "\n",
    "En código sería:"
   ]
  },
  {
   "cell_type": "code",
   "execution_count": 26,
   "metadata": {},
   "outputs": [
    {
     "data": {
      "text/plain": [
       "20"
      ]
     },
     "execution_count": 26,
     "metadata": {},
     "output_type": "execute_result"
    }
   ],
   "source": [
    "A[0,0]*B[0,0]+A[0,1]*B[1,0]+A[0,2]*B[2,0]"
   ]
  },
  {
   "cell_type": "markdown",
   "metadata": {},
   "source": [
    "Segundo, cómo obtenemos el resultado que queremos? Para ello es necesario utilizar una función. Es decir:"
   ]
  },
  {
   "cell_type": "code",
   "execution_count": 27,
   "metadata": {},
   "outputs": [
    {
     "data": {
      "text/plain": [
       "matrix([[ 3, 14,  1],\n",
       "        [18,  0,  2],\n",
       "        [ 0,  0, 16]])"
      ]
     },
     "execution_count": 27,
     "metadata": {},
     "output_type": "execute_result"
    }
   ],
   "source": [
    "np.multiply(A,B)"
   ]
  },
  {
   "cell_type": "markdown",
   "metadata": {},
   "source": [
    "Ahora sí tenemos la multiplicación elemento por elemento.\n",
    "\n",
    "División:\n",
    "\n"
   ]
  },
  {
   "cell_type": "code",
   "execution_count": 28,
   "metadata": {},
   "outputs": [
    {
     "name": "stdout",
     "output_type": "stream",
     "text": [
      "[[0.33333333 0.28571429 1.        ]\n",
      " [0.5        0.         0.5       ]\n",
      " [0.                inf 1.        ]]\n"
     ]
    },
    {
     "name": "stderr",
     "output_type": "stream",
     "text": [
      "C:\\Program Files (x86)\\Python37-32\\lib\\site-packages\\ipykernel_launcher.py:1: RuntimeWarning: divide by zero encountered in true_divide\n",
      "  \"\"\"Entry point for launching an IPython kernel.\n"
     ]
    }
   ],
   "source": [
    "F = A/B\n",
    "print(F)"
   ]
  },
  {
   "cell_type": "markdown",
   "metadata": {},
   "source": [
    "### 2.2.2. Operaciones de matrices como objetos\n",
    "\n",
    "Como ya se mencionó, la múltiplicación usando el simbolo * realiza el producto punto.\n",
    "Sin embargo, es necesario tener en cuenta que a diferencia de multiplicar número al multiplicar matrices el orden importa.\n",
    "\n",
    "Por ejemplo,"
   ]
  },
  {
   "cell_type": "code",
   "execution_count": 29,
   "metadata": {},
   "outputs": [
    {
     "name": "stdout",
     "output_type": "stream",
     "text": [
      "[[20 15  9]\n",
      " [14 21  7]\n",
      " [32  8 20]]\n",
      "[[24  8 14]\n",
      " [18 16 18]\n",
      " [ 5 18 21]]\n"
     ]
    }
   ],
   "source": [
    "print(A*B)\n",
    "print(B*A)"
   ]
  },
  {
   "cell_type": "markdown",
   "metadata": {},
   "source": [
    "Los resultados son diferentes, por qué?"
   ]
  },
  {
   "cell_type": "markdown",
   "metadata": {},
   "source": [
    "## 2.3. Algunas operaciones y comandos con matrices\n",
    "\n",
    "### 2.3.1 Inversa de una matriz\n",
    "\n",
    "Así como en número se tiene un inverso, por ejemplo para $x=2$ su inverso multiplicativo sería $1/x=1/2$, en la matrices ocurre lo mismo.\n",
    "\n",
    "Cumpliendo ciertas condiciones es posible calcular la inversa de una matriz. Las condiciones son básicamente que exista \"independencia\" entre las filas y columnas de la matriz. En palabras más simple, \"independecia\" se refiere a que no es posible expresar una fila o columna en función de otra.\n",
    "\n",
    "Por ejemplo considere la matriz:\n",
    "\n",
    "$$C=\\begin{bmatrix} 1 & 2 \\\\ 2 & 4 \\end{bmatrix}$$\n",
    "\n",
    "Es posible expresar una fila en función de la otra? La respuesta es sí, vea que la segunda fila es la primera multiplicada por $2$.\n",
    "\n",
    "Construyamos la matriz $C$ y hallemos la inversa.\n"
   ]
  },
  {
   "cell_type": "code",
   "execution_count": 34,
   "metadata": {},
   "outputs": [
    {
     "name": "stdout",
     "output_type": "stream",
     "text": [
      "[[1 2]\n",
      " [2 4]]\n"
     ]
    },
    {
     "ename": "LinAlgError",
     "evalue": "Singular matrix",
     "output_type": "error",
     "traceback": [
      "\u001b[1;31m---------------------------------------------------------------------------\u001b[0m",
      "\u001b[1;31mLinAlgError\u001b[0m                               Traceback (most recent call last)",
      "\u001b[1;32m<ipython-input-34-14ae84880a70>\u001b[0m in \u001b[0;36m<module>\u001b[1;34m\u001b[0m\n\u001b[0;32m      1\u001b[0m \u001b[0mC\u001b[0m \u001b[1;33m=\u001b[0m \u001b[0mnp\u001b[0m\u001b[1;33m.\u001b[0m\u001b[0mmatrix\u001b[0m\u001b[1;33m(\u001b[0m\u001b[1;33m[\u001b[0m\u001b[1;33m[\u001b[0m\u001b[1;36m1\u001b[0m\u001b[1;33m,\u001b[0m\u001b[1;36m2\u001b[0m\u001b[1;33m]\u001b[0m\u001b[1;33m,\u001b[0m\u001b[1;33m[\u001b[0m\u001b[1;36m2\u001b[0m\u001b[1;33m,\u001b[0m\u001b[1;36m4\u001b[0m\u001b[1;33m]\u001b[0m\u001b[1;33m]\u001b[0m\u001b[1;33m)\u001b[0m\u001b[1;33m\u001b[0m\u001b[1;33m\u001b[0m\u001b[0m\n\u001b[0;32m      2\u001b[0m \u001b[0mprint\u001b[0m\u001b[1;33m(\u001b[0m\u001b[0mC\u001b[0m\u001b[1;33m)\u001b[0m\u001b[1;33m\u001b[0m\u001b[1;33m\u001b[0m\u001b[0m\n\u001b[1;32m----> 3\u001b[1;33m \u001b[0mnp\u001b[0m\u001b[1;33m.\u001b[0m\u001b[0mlinalg\u001b[0m\u001b[1;33m.\u001b[0m\u001b[0minv\u001b[0m\u001b[1;33m(\u001b[0m\u001b[0mC\u001b[0m\u001b[1;33m)\u001b[0m\u001b[1;33m\u001b[0m\u001b[1;33m\u001b[0m\u001b[0m\n\u001b[0m",
      "\u001b[1;32m<__array_function__ internals>\u001b[0m in \u001b[0;36minv\u001b[1;34m(*args, **kwargs)\u001b[0m\n",
      "\u001b[1;32m~\\AppData\\Roaming\\Python\\Python37\\site-packages\\numpy\\linalg\\linalg.py\u001b[0m in \u001b[0;36minv\u001b[1;34m(a)\u001b[0m\n\u001b[0;32m    549\u001b[0m     \u001b[0msignature\u001b[0m \u001b[1;33m=\u001b[0m \u001b[1;34m'D->D'\u001b[0m \u001b[1;32mif\u001b[0m \u001b[0misComplexType\u001b[0m\u001b[1;33m(\u001b[0m\u001b[0mt\u001b[0m\u001b[1;33m)\u001b[0m \u001b[1;32melse\u001b[0m \u001b[1;34m'd->d'\u001b[0m\u001b[1;33m\u001b[0m\u001b[1;33m\u001b[0m\u001b[0m\n\u001b[0;32m    550\u001b[0m     \u001b[0mextobj\u001b[0m \u001b[1;33m=\u001b[0m \u001b[0mget_linalg_error_extobj\u001b[0m\u001b[1;33m(\u001b[0m\u001b[0m_raise_linalgerror_singular\u001b[0m\u001b[1;33m)\u001b[0m\u001b[1;33m\u001b[0m\u001b[1;33m\u001b[0m\u001b[0m\n\u001b[1;32m--> 551\u001b[1;33m     \u001b[0mainv\u001b[0m \u001b[1;33m=\u001b[0m \u001b[0m_umath_linalg\u001b[0m\u001b[1;33m.\u001b[0m\u001b[0minv\u001b[0m\u001b[1;33m(\u001b[0m\u001b[0ma\u001b[0m\u001b[1;33m,\u001b[0m \u001b[0msignature\u001b[0m\u001b[1;33m=\u001b[0m\u001b[0msignature\u001b[0m\u001b[1;33m,\u001b[0m \u001b[0mextobj\u001b[0m\u001b[1;33m=\u001b[0m\u001b[0mextobj\u001b[0m\u001b[1;33m)\u001b[0m\u001b[1;33m\u001b[0m\u001b[1;33m\u001b[0m\u001b[0m\n\u001b[0m\u001b[0;32m    552\u001b[0m     \u001b[1;32mreturn\u001b[0m \u001b[0mwrap\u001b[0m\u001b[1;33m(\u001b[0m\u001b[0mainv\u001b[0m\u001b[1;33m.\u001b[0m\u001b[0mastype\u001b[0m\u001b[1;33m(\u001b[0m\u001b[0mresult_t\u001b[0m\u001b[1;33m,\u001b[0m \u001b[0mcopy\u001b[0m\u001b[1;33m=\u001b[0m\u001b[1;32mFalse\u001b[0m\u001b[1;33m)\u001b[0m\u001b[1;33m)\u001b[0m\u001b[1;33m\u001b[0m\u001b[1;33m\u001b[0m\u001b[0m\n\u001b[0;32m    553\u001b[0m \u001b[1;33m\u001b[0m\u001b[0m\n",
      "\u001b[1;32m~\\AppData\\Roaming\\Python\\Python37\\site-packages\\numpy\\linalg\\linalg.py\u001b[0m in \u001b[0;36m_raise_linalgerror_singular\u001b[1;34m(err, flag)\u001b[0m\n\u001b[0;32m     95\u001b[0m \u001b[1;33m\u001b[0m\u001b[0m\n\u001b[0;32m     96\u001b[0m \u001b[1;32mdef\u001b[0m \u001b[0m_raise_linalgerror_singular\u001b[0m\u001b[1;33m(\u001b[0m\u001b[0merr\u001b[0m\u001b[1;33m,\u001b[0m \u001b[0mflag\u001b[0m\u001b[1;33m)\u001b[0m\u001b[1;33m:\u001b[0m\u001b[1;33m\u001b[0m\u001b[1;33m\u001b[0m\u001b[0m\n\u001b[1;32m---> 97\u001b[1;33m     \u001b[1;32mraise\u001b[0m \u001b[0mLinAlgError\u001b[0m\u001b[1;33m(\u001b[0m\u001b[1;34m\"Singular matrix\"\u001b[0m\u001b[1;33m)\u001b[0m\u001b[1;33m\u001b[0m\u001b[1;33m\u001b[0m\u001b[0m\n\u001b[0m\u001b[0;32m     98\u001b[0m \u001b[1;33m\u001b[0m\u001b[0m\n\u001b[0;32m     99\u001b[0m \u001b[1;32mdef\u001b[0m \u001b[0m_raise_linalgerror_nonposdef\u001b[0m\u001b[1;33m(\u001b[0m\u001b[0merr\u001b[0m\u001b[1;33m,\u001b[0m \u001b[0mflag\u001b[0m\u001b[1;33m)\u001b[0m\u001b[1;33m:\u001b[0m\u001b[1;33m\u001b[0m\u001b[1;33m\u001b[0m\u001b[0m\n",
      "\u001b[1;31mLinAlgError\u001b[0m: Singular matrix"
     ]
    }
   ],
   "source": [
    "C = np.matrix([[1,2],[2,4]])\n",
    "print(C)\n",
    "np.linalg.inv(C)"
   ]
  },
  {
   "cell_type": "markdown",
   "metadata": {},
   "source": [
    "Salió un error que dice \"Singular matrix\", lo que tecnicamente signfica que el determinante es cero o simplemente que no es posible invertirla.\n",
    "\n",
    "Ahora, calcule el inverso de la matriz $B$ creada anteriormente."
   ]
  },
  {
   "cell_type": "code",
   "execution_count": 35,
   "metadata": {},
   "outputs": [
    {
     "data": {
      "text/plain": [
       "matrix([[-0.22857143,  0.4       , -0.14285714],\n",
       "        [ 0.2       , -0.1       ,  0.        ],\n",
       "        [ 0.28571429, -0.5       ,  0.42857143]])"
      ]
     },
     "execution_count": 35,
     "metadata": {},
     "output_type": "execute_result"
    }
   ],
   "source": [
    "np.linalg.inv(B)"
   ]
  },
  {
   "cell_type": "markdown",
   "metadata": {},
   "source": [
    "### 2.3.2 Matriz identidad\n",
    "\n",
    "La matriz identidad es aquella cuyos elementos de la diagonal son $1$ y el resto es $0$. Además, la mtriz identidad es cuadrada es decir que el número de filas es igual al número de columnas.\n",
    "\n",
    "En particular, suponga que deseamos crear una matriz identidad de $(3x3)$ de la forma:\n",
    "\n",
    "$$I=\\begin{bmatrix} 1 & 0 & 0 \\\\ 0 & 1 & 0 \\\\ 0 & 0 & 1 \\end{bmatrix}$$\n",
    "\n",
    "El código sería:"
   ]
  },
  {
   "cell_type": "code",
   "execution_count": 30,
   "metadata": {},
   "outputs": [
    {
     "name": "stdout",
     "output_type": "stream",
     "text": [
      "[[1. 0. 0.]\n",
      " [0. 1. 0.]\n",
      " [0. 0. 1.]]\n"
     ]
    }
   ],
   "source": [
    "I = np.identity(3)\n",
    "print(I)"
   ]
  },
  {
   "cell_type": "markdown",
   "metadata": {},
   "source": [
    "Qué pasa si multiplicamos una matriz como $A$ por la matriz $I$?"
   ]
  },
  {
   "cell_type": "code",
   "execution_count": 31,
   "metadata": {},
   "outputs": [
    {
     "name": "stdout",
     "output_type": "stream",
     "text": [
      "[[1. 2. 1.]\n",
      " [3. 0. 1.]\n",
      " [0. 2. 4.]]\n",
      "[[1. 2. 1.]\n",
      " [3. 0. 1.]\n",
      " [0. 2. 4.]]\n"
     ]
    }
   ],
   "source": [
    "print(A*I)\n",
    "print(I*A)"
   ]
  },
  {
   "cell_type": "markdown",
   "metadata": {},
   "source": [
    "Da como resultado la misma matriz $A$ no importa si está a la derecha o la izquierda la matriz $I$.\n",
    "\n",
    "Ok, entonces para qué sirve la matriz identidad? Es util es pruebas que involucran algerba líneal y en ocasiones pueden facilitar los cálculos en un operación.\n",
    "\n",
    "Finalmente, la inversa de una matriz y la identidad tienen relación. En general, se cumple que:\n",
    "\n",
    "$A*A^{-1} = I$\n",
    "\n",
    "Para cualquier matriz $A$ que tenga una inversa.\n",
    "\n",
    "Ahora, mostremolo con la matriz $B$ y su inversa\n"
   ]
  },
  {
   "cell_type": "code",
   "execution_count": 36,
   "metadata": {},
   "outputs": [
    {
     "data": {
      "text/plain": [
       "matrix([[1.00000000e+00, 0.00000000e+00, 0.00000000e+00],\n",
       "        [0.00000000e+00, 1.00000000e+00, 0.00000000e+00],\n",
       "        [0.00000000e+00, 2.22044605e-16, 1.00000000e+00]])"
      ]
     },
     "execution_count": 36,
     "metadata": {},
     "output_type": "execute_result"
    }
   ],
   "source": [
    "B*np.linalg.inv(B)"
   ]
  },
  {
   "cell_type": "code",
   "execution_count": null,
   "metadata": {},
   "outputs": [],
   "source": []
  }
 ],
 "metadata": {
  "kernelspec": {
   "display_name": "Python 3",
   "language": "python",
   "name": "python3"
  },
  "language_info": {
   "codemirror_mode": {
    "name": "ipython",
    "version": 3
   },
   "file_extension": ".py",
   "mimetype": "text/x-python",
   "name": "python",
   "nbconvert_exporter": "python",
   "pygments_lexer": "ipython3",
   "version": "3.7.4"
  }
 },
 "nbformat": 4,
 "nbformat_minor": 2
}
