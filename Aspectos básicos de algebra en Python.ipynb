{
 "cells": [
  {
   "cell_type": "markdown",
   "metadata": {},
   "source": [
    "# Aspectos básicos de algebra\n",
    "\n",
    "Antes algunos conceptos básicos de python. Para ello se utilizará la libreria de **Numpy**, esta libreria funciona como cualquier otra libreria en paquetes estadísticos, por ejemplo R.\n",
    "\n",
    "Sin embargo, Python tiene sus particularidades. Para instalar la libreria, primero se debe ir al *cmd* de Windows y digitar\n",
    "*python -m pip install numpy --user*. La última parte, *--user* se hace para evitar problemas de permisos cuando no se es Administrador. Una vez ejecutado, el paquete se instalará solo para el usuario.\n",
    "\n",
    "Luego, para cargar la libreria se ejecuta el siguiente comando:"
   ]
  },
  {
   "cell_type": "code",
   "execution_count": 10,
   "metadata": {},
   "outputs": [],
   "source": [
    "import numpy as np  # carga todas las funciones que tiene la libreria, distinto sería usar el comando from\n",
    "                    # la parte 'as' indica la denominación que va a tener la libreria en el código"
   ]
  },
  {
   "cell_type": "markdown",
   "metadata": {},
   "source": [
    "## 1. Vectores\n",
    "\n",
    "Un vector se define como un objeto que contiene una cierta cantidad de elementos. Por ejemplo, sea un vector $a$ cuyos elementos sean $1,2,3,4$.\n",
    "\n",
    "Si los elementos se disponen o se arreglan en fila, se dice que el vector $a$ es un vector fila cuyas dimensiones serían $(1,4)$ dado que tendria $1$ fila y $4$ columnas. En python escribimos este vector de la forma:"
   ]
  },
  {
   "cell_type": "code",
   "execution_count": 27,
   "metadata": {},
   "outputs": [
    {
     "name": "stdout",
     "output_type": "stream",
     "text": [
      "[1 2 3 4]\n"
     ]
    },
    {
     "data": {
      "text/plain": [
       "(4,)"
      ]
     },
     "execution_count": 27,
     "metadata": {},
     "output_type": "execute_result"
    }
   ],
   "source": [
    "# create a vector\n",
    "a = np.array([1, 2, 3, 4])\n",
    "print(a)\n",
    "a.shape # dimensiones del vector a"
   ]
  },
  {
   "cell_type": "markdown",
   "metadata": {},
   "source": [
    "En la práctica, en estos tipos de programas da lo mismo si es un vecto fila o un vector columna. Lo importante es que sea un vector.\n",
    "\n",
    "Ahora, algunos *tips* sobre los vectores, sus elementos y como hacer operaciones entre ellos.\n",
    "\n",
    "### 1.1. Elementos de un vector\n",
    "\n",
    "En cualquier programa estadístico cuando se crea un vector se genera un *índice* que indica la posición del elemento. En particular, Python inicia el *índice* en cero, es decir, el primer elemento de un vecto se accede diciendo a Python que queremos el elemento cuyo índice sea cero.\n",
    "\n",
    "Para el ejemplo, anterior si deseamos el primer elemento de $a$ entonces:"
   ]
  },
  {
   "cell_type": "code",
   "execution_count": 28,
   "metadata": {},
   "outputs": [
    {
     "data": {
      "text/plain": [
       "1"
      ]
     },
     "execution_count": 28,
     "metadata": {},
     "output_type": "execute_result"
    }
   ],
   "source": [
    "a[0]"
   ]
  },
  {
   "cell_type": "markdown",
   "metadata": {},
   "source": [
    "A su vez es posible hacer operaciones entre elementos del vector. Por ejemplo, si se desea sumar el elemento cuyo *índice* es 2 y el elemento cuyo *índice* es 3 se debe ejecutar:"
   ]
  },
  {
   "cell_type": "code",
   "execution_count": 29,
   "metadata": {},
   "outputs": [
    {
     "data": {
      "text/plain": [
       "7"
      ]
     },
     "execution_count": 29,
     "metadata": {},
     "output_type": "execute_result"
    }
   ],
   "source": [
    "a[2]+a[3]"
   ]
  },
  {
   "cell_type": "markdown",
   "metadata": {},
   "source": [
    "Fijemonos que el programa sumó $3+4$, por qué? Recuerde que Python inicia el *índice* en cero y por lo tanto $a[2]$ y $a[3]$ corresponden a los elementos 3 y 4 respectivamente."
   ]
  },
  {
   "cell_type": "markdown",
   "metadata": {},
   "source": [
    "### 1.2. Operaciones con vectores\n",
    "\n",
    "Cuando se realizan operaciones con vectores es necesario tener en cuenta que en este tipo de paquetes existe una diferenciación importante.\n",
    "\n",
    "Por una parte, se tiene operaciones *element-wise* que consiste en que la operación a realizar se \"aplica\" a cada elemento del vector. Por ejemplo, al sumar dos vectores se está realizando una operación *element-wise* en la medida que se está sumando el primer elemento de un vector con el primer elemento de otro vector, el segundo con el segundo, etc.\n",
    "\n",
    "Por otra parte, se tiene operaciones \"entre objetos\" es decir operaciones que se aplican sobre todo el vector. El ejemplo más claro de este tipo de operaciones es la diferencia entre la multiplicación \"normal\" y el producto punto.\n",
    "\n",
    "#### 1.2.1 Element-wise\n",
    "\n",
    "Creemos otro vector, esta vez llamemolo $b$ y cuyos elementos sean $5, 6, 7, 8$."
   ]
  },
  {
   "cell_type": "code",
   "execution_count": 30,
   "metadata": {},
   "outputs": [],
   "source": [
    "b = np.array([5, 6 , 7, 8])"
   ]
  },
  {
   "cell_type": "markdown",
   "metadata": {},
   "source": [
    "Ahora, veamos como funciona la suma:"
   ]
  },
  {
   "cell_type": "code",
   "execution_count": 31,
   "metadata": {},
   "outputs": [
    {
     "name": "stdout",
     "output_type": "stream",
     "text": [
      "[ 6  8 10 12]\n"
     ]
    }
   ],
   "source": [
    "c = a + b\n",
    "print(c)"
   ]
  },
  {
   "cell_type": "markdown",
   "metadata": {},
   "source": [
    "Notemos que es el mismo resultado que realizar:"
   ]
  },
  {
   "cell_type": "code",
   "execution_count": 32,
   "metadata": {},
   "outputs": [
    {
     "data": {
      "text/plain": [
       "array([ 6,  8, 10, 12])"
      ]
     },
     "execution_count": 32,
     "metadata": {},
     "output_type": "execute_result"
    }
   ],
   "source": [
    "np.array([a[0]+b[0], a[1]+b[1], a[2]+b[2], a[3]+b[3]])"
   ]
  },
  {
   "cell_type": "markdown",
   "metadata": {},
   "source": [
    "La resta funciona de la misma forma:"
   ]
  },
  {
   "cell_type": "code",
   "execution_count": 33,
   "metadata": {},
   "outputs": [
    {
     "name": "stdout",
     "output_type": "stream",
     "text": [
      "[-4 -4 -4 -4]\n"
     ]
    }
   ],
   "source": [
    "d = a - b\n",
    "print(d)"
   ]
  },
  {
   "cell_type": "markdown",
   "metadata": {},
   "source": [
    "La multiplicación:"
   ]
  },
  {
   "cell_type": "code",
   "execution_count": 34,
   "metadata": {},
   "outputs": [
    {
     "name": "stdout",
     "output_type": "stream",
     "text": [
      "[ 5 12 21 32]\n"
     ]
    }
   ],
   "source": [
    "e = a*b\n",
    "print(e)"
   ]
  },
  {
   "cell_type": "markdown",
   "metadata": {},
   "source": [
    "La división:"
   ]
  },
  {
   "cell_type": "code",
   "execution_count": 35,
   "metadata": {},
   "outputs": [
    {
     "name": "stdout",
     "output_type": "stream",
     "text": [
      "[5.         3.         2.33333333 2.        ]\n"
     ]
    }
   ],
   "source": [
    "f = b/a\n",
    "print(f)"
   ]
  },
  {
   "cell_type": "markdown",
   "metadata": {},
   "source": [
    "#### 1.2.2. Operaciones con vectores como objeto\n",
    "\n",
    "Como se mencionó, en este tipo de operaciones la operación hace referencia a todo el vector.\n",
    "\n",
    "Producto Punto:"
   ]
  },
  {
   "cell_type": "code",
   "execution_count": 36,
   "metadata": {},
   "outputs": [
    {
     "name": "stdout",
     "output_type": "stream",
     "text": [
      "70\n"
     ]
    }
   ],
   "source": [
    "g = a.dot(b)\n",
    "print(g)"
   ]
  },
  {
   "cell_type": "markdown",
   "metadata": {},
   "source": [
    "Cuál es la diferencia entre la multiplicación y el producto punto? \n",
    "Escriba una línea de comando que replique lo hecho por la función *.dot()*"
   ]
  },
  {
   "cell_type": "markdown",
   "metadata": {},
   "source": [
    "## 2. Matrices\n",
    "\n",
    "Las matrices son objetos que están disñados en filas y columnas. Por ejemplo, sea una matriz:\n",
    "\n",
    "$$A=\\begin{bmatrix} 1 & 2 & 1 \\\\ 3 & 0 & 1 \\\\ 0 & 2 & 4 \\end{bmatrix}$$\n",
    "\n",
    "Esta matriz tiene dimensiones $(3,3)$ y se dice que es cuadrada dado que el número de filas es igual al número de columnas.\n",
    "\n",
    "Ahora, creeemos la matriz con código en Python:"
   ]
  },
  {
   "cell_type": "code",
   "execution_count": 46,
   "metadata": {},
   "outputs": [
    {
     "name": "stdout",
     "output_type": "stream",
     "text": [
      "[[1 2 1]\n",
      " [3 0 1]\n",
      " [0 2 4]]\n"
     ]
    }
   ],
   "source": [
    "A = np.matrix([[1,2,1],[3,0,1],[0,2,4]])\n",
    "print(A)"
   ]
  },
  {
   "cell_type": "markdown",
   "metadata": {},
   "source": [
    "Cree la siguiente matriz:\n",
    "\n",
    "$$B=\\begin{bmatrix} 3 & 7 & 1 \\\\ 6 & 4 & 2 \\\\ 5 & 0 & 4 \\end{bmatrix}$$"
   ]
  },
  {
   "cell_type": "code",
   "execution_count": 47,
   "metadata": {},
   "outputs": [
    {
     "name": "stdout",
     "output_type": "stream",
     "text": [
      "[[3 7 1]\n",
      " [6 4 2]\n",
      " [5 0 4]]\n"
     ]
    }
   ],
   "source": [
    "B = np.matrix([[3,7,1],[6,4,2],[5,0,4]])\n",
    "print(B)"
   ]
  },
  {
   "cell_type": "code",
   "execution_count": null,
   "metadata": {},
   "outputs": [],
   "source": []
  }
 ],
 "metadata": {
  "kernelspec": {
   "display_name": "Python 3",
   "language": "python",
   "name": "python3"
  },
  "language_info": {
   "codemirror_mode": {
    "name": "ipython",
    "version": 3
   },
   "file_extension": ".py",
   "mimetype": "text/x-python",
   "name": "python",
   "nbconvert_exporter": "python",
   "pygments_lexer": "ipython3",
   "version": "3.7.4"
  }
 },
 "nbformat": 4,
 "nbformat_minor": 2
}
